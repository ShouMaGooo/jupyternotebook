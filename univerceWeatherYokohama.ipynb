In[*]:
	//padasをインポート。ローカルに保存したcsvファイルを読み込み,変数「allData」に格納し、出力。
	import pandas as pd
	allData = pd.read_csv(r'C:\Users\○○○○○\WeatherYokohama.csv',encoding="SHIFT-JIS")
	allData


In[*]:
	//機械学習ライブラリscikit-learn(sklearn)のなかから、線形回帰のLinearRegressionを呼び出す。
	//その後、説明変数として'neutron(counts/10min)'、目的変数として'muon(counts/10min)'を定義した後、線形回帰を実行しています。
	from sklearn.linear_model import LinearRegression
	X1 = allData[['neutron(counts/10min)']]
	Y1 = allData['muon(counts/10min)']
	model1 = LinearRegression()
	model1.fit(X1, Y1)
			
Out[*]:
	LinearRegression(copy_X=True, fit_intercept=True, n_jobs=None, normalize=False)


In[*]:
	//『ミューオン』と『中性子』を検知した回数(10秒あたり)の回帰直線をプロット
	plt.scatter(allData['neutron(counts/10min)'],allData['muon(counts/10min)'])
	plt.xlabel('neutron(counts/10min)')
	plt.ylabel('muon(counts/10min)')
	plt.plot(X1, model1.predict(X1))
	
In[*]:
	//機械学習ライブラリscikit-learn(sklearn)のなかから、線形回帰のLinearRegressionを呼び出す。
	//その後、説明変数として'neutron(counts/10min)'、目的変数として'muon(counts/10min)'を定義した後、線形回帰を実行しています
	from sklearn.linear_model import LinearRegression
	X1 = allData[['muon(counts/10min)']]
	Y1 = allData['tempreture']
	model1 = LinearRegression()
	model1.fit(X1, Y1)
	
Out[*]:	
	LinearRegression(copy_X=True, fit_intercept=True, n_jobs=None, normalize=False)
	
In[*]:
	//『ミューオン』を検知した回数(10秒あたり)と横浜市の『日ごとの平均気温』の回帰直線をプロット
	plt.scatter(allData['muon(counts/10min)'],allData['tempreture'])
	plt.xlabel('muon(counts/10min)')
	plt.ylabel('tempreture')
	plt.plot(X1, model1.predict(X1))
	
In[*]:
	//『ミューオン』を検知した回数(10秒あたり)と横浜市の『日ごとの平均気温』の相関係数を調べる。
	allData[["muon(counts/10min)","tempreture"]].corr()
	
Out[*]:
	//実行結果　　0.392717
	
			
