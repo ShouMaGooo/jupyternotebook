In[*]:
	import pandas as pd
	allData = pd.read_csv(r'C:\Users\○○○○○\WeatherYokohama.csv',encoding="SHIFT-JIS")
	allData


In[*]:
	from sklearn.linear_model import LinearRegression
	X1 = allData[['neutron(counts/10min)']]
	Y1 = allData['muon(counts/10min)']
	model1 = LinearRegression()
	model1.fit(X1, Y1)
			
Out[*]:
	LinearRegression(copy_X=True, fit_intercept=True, n_jobs=None, normalize=False)


In[*]:
	plt.scatter(allData['neutron(counts/10min)'],allData['muon(counts/10min)'])
	plt.xlabel('neutron(counts/10min)')
	plt.ylabel('muon(counts/10min)')
	plt.plot(X1, model1.predict(X1))
	
In[*]:
	from sklearn.linear_model import LinearRegression
	X1 = allData[['muon(counts/10min)']]
	Y1 = allData['tempreture']
	model1 = LinearRegression()
	model1.fit(X1, Y1)
	
Out[*]:	
	LinearRegression(copy_X=True, fit_intercept=True, n_jobs=None, normalize=False)
	
In[*]:
	plt.scatter(allData['muon(counts/10min)'],allData['tempreture'])
	plt.xlabel('muon(counts/10min)')
	plt.ylabel('tempreture')
	plt.plot(X1, model1.predict(X1))
	
In[*]:
	allData[["muon(counts/10min)","tempreture"]].corr()
	
Out[*]:
	0.392717
	
			
