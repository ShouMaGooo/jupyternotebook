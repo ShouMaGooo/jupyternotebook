 `昨今、温暖化が叫ばれているが、『二酸化炭素の増加』と『気候変動』の相関が見られない事が知られている。`
`事実ベースだと小氷期や温暖期が周期的に訪れることが知られている。`
`下記の吉野正敏さんの資料からも分かる通り、17世紀にイギリスのテムズ川が凍り、日本でも三大飢饉に見舞われた。`
`更に1780年の冬にはニューヨーク湾が凍結しています。逆に、古墳-飛鳥時代、平安時代初期は、現在よりもむしろ高い(PDFの3/16ページ)。`

`『4～10世紀における気候変動と人間活動』   J-STAGE　　吉野正敏`
[https://www.jstage.jst.go.jp/article/jgeography/118/6/118_6_1221/_article/-char/ja/](https://www.jstage.jst.go.jp/article/jgeography/118/6/118_6_1221/_article/-char/ja/)`
※図 1 屋久杉の年輪の炭素同位体比から明らかになった歴史時代の気温変動（北川, 1995a, b）と温暖期・寒冷
期の名称（安田, 2004）参照。

そして、長期手に見ると、水蒸気量、太陽風、太陽フレア、太陽地場、地球地場強度、宇宙から降り注ぐ放射線の量『宇宙線量』等の方が、むしろ相関が見られる。
そこで、宇宙線量と長期的には相関がある程度見られるが、短期的に天気への相関が見られるかどうか、練習もかねてピンポイントで予報が可能なのか調べる。`


その時に以下のサイトでデータを所得し、それをcsvファイルとして保存。

●横浜　2020年4月（日ごとの値）
https://www.data.jma.go.jp/obd/stats/etrn/view/daily_s1.php?prec_no=46&block_no=47670&year=2020&month=4&day=&view=

●南極昭和基地での宇宙線観測データ　　データの解像度『1日』, 『2019-4-1-00:00 ～ 2019-4-12-00:00』
http://polaris.nipr.ac.jp/~cosmicrays/




In[*]:
	//padasをインポート。ローカルに保存したcsvファイルを読み込み,変数「allData」に格納し、出力。
	import pandas as pd
	allData = pd.read_csv(r'C:\Users\○○○○○\WeatherYokohama.csv',encoding="SHIFT-JIS")
	allData


In[*]:
	//機械学習ライブラリscikit-learn(sklearn)のなかから、線形回帰のLinearRegressionを呼び出す。
	//その後、説明変数として'neutron(counts/10min)'、目的変数として'muon(counts/10min)'を定義した後、線形回帰を実行しています。
	from sklearn.linear_model import LinearRegression
	X1 = allData[['neutron(counts/10min)']]
	Y1 = allData['muon(counts/10min)']
	model1 = LinearRegression()
	model1.fit(X1, Y1)
			
Out[*]:
	LinearRegression(copy_X=True, fit_intercept=True, n_jobs=None, normalize=False)


In[*]:
	//『ミューオン』と『中性子』を検知した回数(10秒あたり)の回帰直線をプロット
	plt.scatter(allData['neutron(counts/10min)'],allData['muon(counts/10min)'])
	plt.xlabel('neutron(counts/10min)')
	plt.ylabel('muon(counts/10min)')
	plt.plot(X1, model1.predict(X1))
	
In[*]:
	//機械学習ライブラリscikit-learn(sklearn)のなかから、線形回帰のLinearRegressionを呼び出す。
	//その後、説明変数として'neutron(counts/10min)'、目的変数として'muon(counts/10min)'を定義した後、線形回帰を実行しています
	from sklearn.linear_model import LinearRegression
	X1 = allData[['muon(counts/10min)']]
	Y1 = allData['tempreture']
	model1 = LinearRegression()
	model1.fit(X1, Y1)
	
Out[*]:	
	LinearRegression(copy_X=True, fit_intercept=True, n_jobs=None, normalize=False)
	
In[*]:
	//『ミューオン』を検知した回数(10秒あたり)と横浜市の『日ごとの平均気温』の回帰直線をプロット
	plt.scatter(allData['muon(counts/10min)'],allData['tempreture'])
	plt.xlabel('muon(counts/10min)')
	plt.ylabel('tempreture')
	plt.plot(X1, model1.predict(X1))
	
In[*]:
	//『ミューオン』を検知した回数(10秒あたり)と横浜市の『日ごとの平均気温』の相関係数を調べる。
	allData[["muon(counts/10min)","tempreture"]].corr()
	
Out[*]:
	//実行結果　　0.392717
	
			
